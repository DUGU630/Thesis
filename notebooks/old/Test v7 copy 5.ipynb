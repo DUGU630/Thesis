{
 "cells": [
  {
   "cell_type": "markdown",
   "metadata": {},
   "source": [
    "## Aggregate the network with an optimization method"
   ]
  },
  {
   "cell_type": "code",
   "execution_count": 33,
   "metadata": {},
   "outputs": [
    {
     "data": {
      "text/plain": [
       "<module 'visuals' from 'c:\\\\Users\\\\g630d\\\\Documents\\\\00_Cours\\\\2024-2025_MIT\\\\00 Thesis\\\\Dev\\\\notebooks\\\\../src\\\\visuals.py'>"
      ]
     },
     "execution_count": 33,
     "metadata": {},
     "output_type": "execute_result"
    }
   ],
   "source": [
    "import sys\n",
    "sys.path.append('../src')\n",
    "import utils_mistral as utils\n",
    "import test_mistral_copy as models\n",
    "import visuals as v\n",
    "import numpy as np\n",
    "import matplotlib.pyplot as plt\n",
    "import pandas as pd\n",
    "from itertools import product\n",
    "import xarray as xr\n",
    "import importlib\n",
    "\n",
    "importlib.reload(models)\n",
    "importlib.reload(utils)\n",
    "importlib.reload(v)"
   ]
  },
  {
   "cell_type": "code",
   "execution_count": 2,
   "metadata": {},
   "outputs": [],
   "source": [
    "config = utils.Config(demand = \"k-interpolation\", k_weight_demand= 1)"
   ]
  },
  {
   "cell_type": "code",
   "execution_count": 14,
   "metadata": {},
   "outputs": [],
   "source": [
    "nodes_df = pd.read_csv('../DATA/Dev/new_england_counties2019.csv')\n",
    "wind_df = pd.read_csv(\n",
    "    '../DATA/Dev/county-level-CFs/hist/wind/cf_local_county_2014.csv').iloc[:, 1:]\n",
    "solar_df = pd.read_csv(\n",
    "    '../DATA/Dev/county-level-CFs/hist/solar/cf_local_county_2014.csv').iloc[:, 1:]\n",
    "demand_df = pd.read_csv('../DATA/dev/demand_hist/county_demand_local_hourly_2013.csv').iloc[:, 1:]"
   ]
  },
  {
   "cell_type": "code",
   "execution_count": 39,
   "metadata": {},
   "outputs": [],
   "source": [
    "from dataclasses import dataclass, field, asdict\n",
    "\n",
    "metadata = {\n",
    "            'num_nodes1': nodes_df.shape[0],\n",
    "            'num_nodes2': nodes_df.shape[0]\n",
    "        }\n",
    "\n",
    "config_dict = asdict(config)\n",
    "del config_dict['file_paths']\n",
    "for key in config_dict:\n",
    "    metadata[key] = config_dict[key]"
   ]
  },
  {
   "cell_type": "code",
   "execution_count": 40,
   "metadata": {},
   "outputs": [
    {
     "data": {
      "text/plain": [
       "{'num_nodes1': 67,\n",
       " 'num_nodes2': 67,\n",
       " 'year': 2013,\n",
       " 'demand': 'k-interpolation',\n",
       " 'k_neighbors_CF': 3,\n",
       " 'k_weight_demand': 1,\n",
       " 'time_scale': 'monthly',\n",
       " 'drop_duplicates': True,\n",
       " 'n_repr': 5,\n",
       " 'k_representative_days': 5,\n",
       " 'weights': {'position': 1.0,\n",
       "  'time_series': 1.0,\n",
       "  'duration_curves': 1.0,\n",
       "  'rdc': 1.0,\n",
       "  'intra_correlation': 1.0,\n",
       "  'inter_correlation': 1.0,\n",
       "  'supply_demand_mismatch': 1.0}}"
      ]
     },
     "execution_count": 40,
     "metadata": {},
     "output_type": "execute_result"
    },
    {
     "ename": "",
     "evalue": "",
     "output_type": "error",
     "traceback": [
      "\u001b[1;31mThe Kernel crashed while executing code in the current cell or a previous cell. \n",
      "\u001b[1;31mPlease review the code in the cell(s) to identify a possible cause of the failure. \n",
      "\u001b[1;31mClick <a href='https://aka.ms/vscodeJupyterKernelCrash'>here</a> for more info. \n",
      "\u001b[1;31mView Jupyter <a href='command:jupyter.viewOutput'>log</a> for further details."
     ]
    }
   ],
   "source": [
    "metadata"
   ]
  },
  {
   "cell_type": "code",
   "execution_count": 38,
   "metadata": {},
   "outputs": [
    {
     "data": {
      "text/html": [
       "<div>\n",
       "<style scoped>\n",
       "    .dataframe tbody tr th:only-of-type {\n",
       "        vertical-align: middle;\n",
       "    }\n",
       "\n",
       "    .dataframe tbody tr th {\n",
       "        vertical-align: top;\n",
       "    }\n",
       "\n",
       "    .dataframe thead th {\n",
       "        text-align: right;\n",
       "    }\n",
       "</style>\n",
       "<table border=\"1\" class=\"dataframe\">\n",
       "  <thead>\n",
       "    <tr style=\"text-align: right;\">\n",
       "      <th></th>\n",
       "      <th>num_nodes1</th>\n",
       "      <th>num_nodes2</th>\n",
       "      <th>year</th>\n",
       "      <th>demand</th>\n",
       "      <th>k_neighbors_CF</th>\n",
       "      <th>k_weight_demand</th>\n",
       "      <th>time_scale</th>\n",
       "      <th>drop_duplicates</th>\n",
       "      <th>n_repr</th>\n",
       "      <th>k_representative_days</th>\n",
       "      <th>weights</th>\n",
       "      <th>file_paths</th>\n",
       "    </tr>\n",
       "  </thead>\n",
       "  <tbody>\n",
       "    <tr>\n",
       "      <th>position</th>\n",
       "      <td>67</td>\n",
       "      <td>67</td>\n",
       "      <td>2013</td>\n",
       "      <td>k-interpolation</td>\n",
       "      <td>3</td>\n",
       "      <td>1</td>\n",
       "      <td>monthly</td>\n",
       "      <td>True</td>\n",
       "      <td>5</td>\n",
       "      <td>5</td>\n",
       "      <td>1.0</td>\n",
       "      <td>NaN</td>\n",
       "    </tr>\n",
       "    <tr>\n",
       "      <th>time_series</th>\n",
       "      <td>67</td>\n",
       "      <td>67</td>\n",
       "      <td>2013</td>\n",
       "      <td>k-interpolation</td>\n",
       "      <td>3</td>\n",
       "      <td>1</td>\n",
       "      <td>monthly</td>\n",
       "      <td>True</td>\n",
       "      <td>5</td>\n",
       "      <td>5</td>\n",
       "      <td>1.0</td>\n",
       "      <td>NaN</td>\n",
       "    </tr>\n",
       "    <tr>\n",
       "      <th>duration_curves</th>\n",
       "      <td>67</td>\n",
       "      <td>67</td>\n",
       "      <td>2013</td>\n",
       "      <td>k-interpolation</td>\n",
       "      <td>3</td>\n",
       "      <td>1</td>\n",
       "      <td>monthly</td>\n",
       "      <td>True</td>\n",
       "      <td>5</td>\n",
       "      <td>5</td>\n",
       "      <td>1.0</td>\n",
       "      <td>NaN</td>\n",
       "    </tr>\n",
       "    <tr>\n",
       "      <th>rdc</th>\n",
       "      <td>67</td>\n",
       "      <td>67</td>\n",
       "      <td>2013</td>\n",
       "      <td>k-interpolation</td>\n",
       "      <td>3</td>\n",
       "      <td>1</td>\n",
       "      <td>monthly</td>\n",
       "      <td>True</td>\n",
       "      <td>5</td>\n",
       "      <td>5</td>\n",
       "      <td>1.0</td>\n",
       "      <td>NaN</td>\n",
       "    </tr>\n",
       "    <tr>\n",
       "      <th>intra_correlation</th>\n",
       "      <td>67</td>\n",
       "      <td>67</td>\n",
       "      <td>2013</td>\n",
       "      <td>k-interpolation</td>\n",
       "      <td>3</td>\n",
       "      <td>1</td>\n",
       "      <td>monthly</td>\n",
       "      <td>True</td>\n",
       "      <td>5</td>\n",
       "      <td>5</td>\n",
       "      <td>1.0</td>\n",
       "      <td>NaN</td>\n",
       "    </tr>\n",
       "    <tr>\n",
       "      <th>inter_correlation</th>\n",
       "      <td>67</td>\n",
       "      <td>67</td>\n",
       "      <td>2013</td>\n",
       "      <td>k-interpolation</td>\n",
       "      <td>3</td>\n",
       "      <td>1</td>\n",
       "      <td>monthly</td>\n",
       "      <td>True</td>\n",
       "      <td>5</td>\n",
       "      <td>5</td>\n",
       "      <td>1.0</td>\n",
       "      <td>NaN</td>\n",
       "    </tr>\n",
       "    <tr>\n",
       "      <th>supply_demand_mismatch</th>\n",
       "      <td>67</td>\n",
       "      <td>67</td>\n",
       "      <td>2013</td>\n",
       "      <td>k-interpolation</td>\n",
       "      <td>3</td>\n",
       "      <td>1</td>\n",
       "      <td>monthly</td>\n",
       "      <td>True</td>\n",
       "      <td>5</td>\n",
       "      <td>5</td>\n",
       "      <td>1.0</td>\n",
       "      <td>NaN</td>\n",
       "    </tr>\n",
       "    <tr>\n",
       "      <th>nodes</th>\n",
       "      <td>67</td>\n",
       "      <td>67</td>\n",
       "      <td>2013</td>\n",
       "      <td>k-interpolation</td>\n",
       "      <td>3</td>\n",
       "      <td>1</td>\n",
       "      <td>monthly</td>\n",
       "      <td>True</td>\n",
       "      <td>5</td>\n",
       "      <td>5</td>\n",
       "      <td>NaN</td>\n",
       "      <td>../DATA/dev/NewEngland-HVbuses.csv</td>\n",
       "    </tr>\n",
       "    <tr>\n",
       "      <th>demand</th>\n",
       "      <td>67</td>\n",
       "      <td>67</td>\n",
       "      <td>2013</td>\n",
       "      <td>k-interpolation</td>\n",
       "      <td>3</td>\n",
       "      <td>1</td>\n",
       "      <td>monthly</td>\n",
       "      <td>True</td>\n",
       "      <td>5</td>\n",
       "      <td>5</td>\n",
       "      <td>NaN</td>\n",
       "      <td>../DATA/dev/demand_hist/county_demand_local_ho...</td>\n",
       "    </tr>\n",
       "    <tr>\n",
       "      <th>wind_cf</th>\n",
       "      <td>67</td>\n",
       "      <td>67</td>\n",
       "      <td>2013</td>\n",
       "      <td>k-interpolation</td>\n",
       "      <td>3</td>\n",
       "      <td>1</td>\n",
       "      <td>monthly</td>\n",
       "      <td>True</td>\n",
       "      <td>5</td>\n",
       "      <td>5</td>\n",
       "      <td>NaN</td>\n",
       "      <td>../DATA/dev/CapacityFactors_ISONE/Wind/cf_Wind...</td>\n",
       "    </tr>\n",
       "    <tr>\n",
       "      <th>solar_cf</th>\n",
       "      <td>67</td>\n",
       "      <td>67</td>\n",
       "      <td>2013</td>\n",
       "      <td>k-interpolation</td>\n",
       "      <td>3</td>\n",
       "      <td>1</td>\n",
       "      <td>monthly</td>\n",
       "      <td>True</td>\n",
       "      <td>5</td>\n",
       "      <td>5</td>\n",
       "      <td>NaN</td>\n",
       "      <td>../DATA/dev/CapacityFactors_ISONE/Solar/cf_Sol...</td>\n",
       "    </tr>\n",
       "    <tr>\n",
       "      <th>demand_lat_lon</th>\n",
       "      <td>67</td>\n",
       "      <td>67</td>\n",
       "      <td>2013</td>\n",
       "      <td>k-interpolation</td>\n",
       "      <td>3</td>\n",
       "      <td>1</td>\n",
       "      <td>monthly</td>\n",
       "      <td>True</td>\n",
       "      <td>5</td>\n",
       "      <td>5</td>\n",
       "      <td>NaN</td>\n",
       "      <td>../DATA/Dev/new_england_counties2019.csv</td>\n",
       "    </tr>\n",
       "  </tbody>\n",
       "</table>\n",
       "</div>"
      ],
      "text/plain": [
       "                        num_nodes1  num_nodes2  year           demand  \\\n",
       "position                        67          67  2013  k-interpolation   \n",
       "time_series                     67          67  2013  k-interpolation   \n",
       "duration_curves                 67          67  2013  k-interpolation   \n",
       "rdc                             67          67  2013  k-interpolation   \n",
       "intra_correlation               67          67  2013  k-interpolation   \n",
       "inter_correlation               67          67  2013  k-interpolation   \n",
       "supply_demand_mismatch          67          67  2013  k-interpolation   \n",
       "nodes                           67          67  2013  k-interpolation   \n",
       "demand                          67          67  2013  k-interpolation   \n",
       "wind_cf                         67          67  2013  k-interpolation   \n",
       "solar_cf                        67          67  2013  k-interpolation   \n",
       "demand_lat_lon                  67          67  2013  k-interpolation   \n",
       "\n",
       "                        k_neighbors_CF  k_weight_demand time_scale  \\\n",
       "position                             3                1    monthly   \n",
       "time_series                          3                1    monthly   \n",
       "duration_curves                      3                1    monthly   \n",
       "rdc                                  3                1    monthly   \n",
       "intra_correlation                    3                1    monthly   \n",
       "inter_correlation                    3                1    monthly   \n",
       "supply_demand_mismatch               3                1    monthly   \n",
       "nodes                                3                1    monthly   \n",
       "demand                               3                1    monthly   \n",
       "wind_cf                              3                1    monthly   \n",
       "solar_cf                             3                1    monthly   \n",
       "demand_lat_lon                       3                1    monthly   \n",
       "\n",
       "                        drop_duplicates  n_repr  k_representative_days  \\\n",
       "position                           True       5                      5   \n",
       "time_series                        True       5                      5   \n",
       "duration_curves                    True       5                      5   \n",
       "rdc                                True       5                      5   \n",
       "intra_correlation                  True       5                      5   \n",
       "inter_correlation                  True       5                      5   \n",
       "supply_demand_mismatch             True       5                      5   \n",
       "nodes                              True       5                      5   \n",
       "demand                             True       5                      5   \n",
       "wind_cf                            True       5                      5   \n",
       "solar_cf                           True       5                      5   \n",
       "demand_lat_lon                     True       5                      5   \n",
       "\n",
       "                        weights  \\\n",
       "position                    1.0   \n",
       "time_series                 1.0   \n",
       "duration_curves             1.0   \n",
       "rdc                         1.0   \n",
       "intra_correlation           1.0   \n",
       "inter_correlation           1.0   \n",
       "supply_demand_mismatch      1.0   \n",
       "nodes                       NaN   \n",
       "demand                      NaN   \n",
       "wind_cf                     NaN   \n",
       "solar_cf                    NaN   \n",
       "demand_lat_lon              NaN   \n",
       "\n",
       "                                                               file_paths  \n",
       "position                                                              NaN  \n",
       "time_series                                                           NaN  \n",
       "duration_curves                                                       NaN  \n",
       "rdc                                                                   NaN  \n",
       "intra_correlation                                                     NaN  \n",
       "inter_correlation                                                     NaN  \n",
       "supply_demand_mismatch                                                NaN  \n",
       "nodes                                  ../DATA/dev/NewEngland-HVbuses.csv  \n",
       "demand                  ../DATA/dev/demand_hist/county_demand_local_ho...  \n",
       "wind_cf                 ../DATA/dev/CapacityFactors_ISONE/Wind/cf_Wind...  \n",
       "solar_cf                ../DATA/dev/CapacityFactors_ISONE/Solar/cf_Sol...  \n",
       "demand_lat_lon                   ../DATA/Dev/new_england_counties2019.csv  "
      ]
     },
     "execution_count": 38,
     "metadata": {},
     "output_type": "execute_result"
    }
   ],
   "source": [
    "pd.DataFrame(metadata)"
   ]
  },
  {
   "cell_type": "code",
   "execution_count": 18,
   "metadata": {},
   "outputs": [],
   "source": [
    "# Load CSV data\n",
    "TimeSeries = {'wind': wind_df, 'solar': solar_df};"
   ]
  },
  {
   "cell_type": "code",
   "execution_count": 25,
   "metadata": {},
   "outputs": [
    {
     "name": "stderr",
     "output_type": "stream",
     "text": [
      "c:\\Users\\g630d\\Documents\\00_Cours\\2024-2025_MIT\\00 Thesis\\Dev\\notebooks\\../src\\utils_mistral.py:159: RuntimeWarning: divide by zero encountered in divide\n",
      "  weights = 1 / nearest_distances\n",
      "c:\\Users\\g630d\\Documents\\00_Cours\\2024-2025_MIT\\00 Thesis\\Dev\\notebooks\\../src\\utils_mistral.py:160: RuntimeWarning: invalid value encountered in divide\n",
      "  weights /= weights.sum()\n"
     ]
    },
    {
     "name": "stdout",
     "output_type": "stream",
     "text": [
      "The 'features' dictionary has been created and can be accessed as '.features'\n",
      "It is a dictionary with keys for each node in range(0, 67).\n",
      "Each value is a dictionary with the features of that node.\n",
      "\n",
      "Example structure:\n",
      "network.features[0].keys() = dict_keys(['position', 'time_series', 'duration_curves', 'ramp_duration_curves', 'correlation', 'supply_demand_mismatch'])\n",
      "\n",
      "Details:\n",
      "  - Position: A tuple (latitude, longitude) of that node.\n",
      "  - Time series: A dictionary with keys for each time series type in dict_keys(['wind', 'solar'])\n",
      "    and values as the time series itself.\n",
      "  - Duration Curves: A dictionary with keys for each time series type in dict_keys(['wind', 'solar'])\n",
      "    and values as the duration curve of the time series.\n",
      "  - Ramp Duration Curves (RDCs): A dictionary with keys for each time series type dict_keys(['wind', 'solar'])\n",
      "    and values as the RDC (found by differentiating and subsequently sorting) of the time series.\n",
      "  - Correlation: A dictionary with keys as tuples of types of time series\n",
      "    and values as correlation factors between those time series.\n",
      "  - Supply-demand mismatch: A dictionary with keys as types of time series\n",
      "    and values as the supply-demand mismatch correlation factor for that node, either for year, monthly or weekly.\n"
     ]
    }
   ],
   "source": [
    "network = utils.Network(nodes_df, demand_df, TimeSeries, config)"
   ]
  },
  {
   "cell_type": "code",
   "execution_count": 34,
   "metadata": {},
   "outputs": [],
   "source": [
    "aggregator = models.SpatialAggregation(network.features, config)"
   ]
  },
  {
   "cell_type": "code",
   "execution_count": 43,
   "metadata": {},
   "outputs": [
    {
     "name": "stdout",
     "output_type": "stream",
     "text": [
      "Gurobi Optimizer version 11.0.3 build v11.0.3rc0 (win64 - Windows 10.0 (19045.2))\n",
      "\n",
      "CPU model: Intel(R) Core(TM) i7-9750H CPU @ 2.60GHz, instruction set [SSE2|AVX|AVX2]\n",
      "Thread count: 6 physical cores, 12 logical processors, using up to 12 threads\n",
      "\n",
      "Optimize a model with 6788631 rows, 6788630 columns and 20360680 nonzeros\n",
      "Model fingerprint: 0x4427af3e\n",
      "Variable types: 0 continuous, 6788630 integer (6788630 binary)\n",
      "Coefficient statistics:\n",
      "  Matrix range     [1e+00, 1e+00]\n",
      "  Objective range  [3e-07, 7e+00]\n",
      "  Bounds range     [1e+00, 1e+00]\n",
      "  RHS range        [1e+00, 5e+00]\n",
      "Presolve removed 0 rows and 0 columns (presolve time = 5s) ...\n",
      "Presolve removed 0 rows and 0 columns (presolve time = 10s) ...\n",
      "Presolve removed 0 rows and 0 columns (presolve time = 15s) ...\n",
      "Presolve removed 0 rows and 0 columns (presolve time = 20s) ...\n",
      "Presolve removed 0 rows and 0 columns (presolve time = 25s) ...\n",
      "Presolve removed 0 rows and 0 columns (presolve time = 30s) ...\n",
      "Presolve removed 0 rows and 0 columns (presolve time = 35s) ...\n",
      "Presolve removed 0 rows and 0 columns (presolve time = 40s) ...\n",
      "Presolve removed 0 rows and 0 columns (presolve time = 45s) ...\n",
      "Presolve removed 0 rows and 0 columns (presolve time = 50s) ...\n",
      "Presolve removed 0 rows and 0 columns (presolve time = 55s) ...\n",
      "Presolve removed 0 rows and 0 columns (presolve time = 63s) ...\n",
      "Presolve removed 0 rows and 0 columns (presolve time = 66s) ...\n",
      "Presolve removed 0 rows and 0 columns (presolve time = 70s) ...\n",
      "Presolve removed 0 rows and 0 columns (presolve time = 75s) ...\n",
      "Presolve removed 0 rows and 0 columns (presolve time = 80s) ...\n",
      "Presolve removed 0 rows and 0 columns (presolve time = 85s) ...\n",
      "Presolve removed 0 rows and 0 columns (presolve time = 94s) ...\n",
      "Presolve removed 0 rows and 0 columns (presolve time = 95s) ...\n",
      "Presolve removed 0 rows and 0 columns (presolve time = 104s) ...\n",
      "Presolve removed 0 rows and 0 columns (presolve time = 106s) ...\n",
      "Presolve time: 105.57s\n",
      "Presolved: 6788631 rows, 6788630 columns, 20360680 nonzeros\n",
      "Variable types: 0 continuous, 6788630 integer (6788630 binary)\n",
      "Found heuristic solution: objective 5006.9477913\n",
      "Deterministic concurrent LP optimizer: primal simplex, dual simplex, and barrier\n",
      "Showing barrier log only...\n",
      "\n",
      "Warning: Possible non-determinism after error\n",
      "\n",
      "\n",
      "Explored 0 nodes (0 simplex iterations) in 192.50 seconds (79.51 work units)\n",
      "Thread count was 1 (of 12 available processors)\n",
      "\n",
      "Solution count 0\n",
      "\n",
      "Solve interrupted (error code 10001)\n",
      "Best objective -, best bound -, gap -\n"
     ]
    },
    {
     "ename": "GurobiError",
     "evalue": "Out of memory",
     "output_type": "error",
     "traceback": [
      "\u001b[1;31m---------------------------------------------------------------------------\u001b[0m",
      "\u001b[1;31mGurobiError\u001b[0m                               Traceback (most recent call last)",
      "Cell \u001b[1;32mIn[43], line 1\u001b[0m\n\u001b[1;32m----> 1\u001b[0m optimized_assignment_dict \u001b[38;5;241m=\u001b[39m aggregator\u001b[38;5;241m.\u001b[39moptimize()\n",
      "File \u001b[1;32mc:\\Users\\g630d\\Documents\\00_Cours\\2024-2025_MIT\\00 Thesis\\Dev\\notebooks\\../src\\test_mistral.py:150\u001b[0m, in \u001b[0;36moptimize\u001b[1;34m(self)\u001b[0m\n\u001b[0;32m    148\u001b[0m )\n\u001b[0;32m    149\u001b[0m \n\u001b[1;32m--> 150\u001b[0m model.optimize()\n\u001b[0;32m    151\u001b[0m \n\u001b[0;32m    152\u001b[0m assignment_matrix_result = np.zeros((num_nodes, num_nodes))\n",
      "File \u001b[1;32msrc\\\\gurobipy\\\\model.pxi:893\u001b[0m, in \u001b[0;36mgurobipy.Model.optimize\u001b[1;34m()\u001b[0m\n",
      "\u001b[1;31mGurobiError\u001b[0m: Out of memory"
     ]
    }
   ],
   "source": [
    "optimized_assignment_dict = aggregator.optimize()"
   ]
  },
  {
   "cell_type": "code",
   "execution_count": 83,
   "metadata": {},
   "outputs": [],
   "source": [
    "cluster_assignment_dict = aggregator.cluster_KMedoids()"
   ]
  },
  {
   "cell_type": "code",
   "execution_count": 45,
   "metadata": {},
   "outputs": [],
   "source": [
    "eval_KMedoids = aggregator.compute_metrics(aggregation_method = 'kmedoids', type=\"custom\")"
   ]
  },
  {
   "cell_type": "code",
   "execution_count": 19,
   "metadata": {},
   "outputs": [],
   "source": [
    "eval_opti = aggregator.compute_metrics(aggregation_method = 'optimization', type=\"custom\")"
   ]
  },
  {
   "cell_type": "code",
   "execution_count": 79,
   "metadata": {},
   "outputs": [],
   "source": [
    "importlib.reload(v)\n",
    "visualizer = v.Visualization(aggregator)"
   ]
  },
  {
   "cell_type": "code",
   "execution_count": 80,
   "metadata": {},
   "outputs": [
    {
     "data": {
      "image/png": "[encoded data removed]",
      "text/plain": [
       "<Figure size 700x700 with 1 Axes>"
      ]
     },
     "metadata": {},
     "output_type": "display_data"
    }
   ],
   "source": [
    "visualizer.plot_map(aggregation_method='kmedoids')"
   ]
  },
  {
   "cell_type": "code",
   "execution_count": null,
   "metadata": {},
   "outputs": [],
   "source": [
    "visualizer.plot_map(aggregation_method='optimization')"
   ]
  },
  {
   "cell_type": "code",
   "execution_count": 66,
   "metadata": {},
   "outputs": [
    {
     "name": "stdout",
     "output_type": "stream",
     "text": [
      "kmedoids\n",
      "- Number of clusters:  5\n",
      "- Representatives:  [113, 1015, 2578, 674, 1825]\n",
      "- Number of nodes in each cluster:\n",
      "  Cluster 0: 639 nodes\n",
      "  Cluster 1: 227 nodes\n",
      "  Cluster 2: 647 nodes\n",
      "  Cluster 3: 327 nodes\n",
      "  Cluster 4: 765 nodes\n",
      "optimization\n",
      "- Number of clusters:  5\n",
      "- Representatives:  [113, 672, 1015, 1825, 2578]\n",
      "- Number of nodes in each cluster:\n",
      "  Cluster 0: 639 nodes\n",
      "  Cluster 1: 325 nodes\n",
      "  Cluster 2: 229 nodes\n",
      "  Cluster 3: 765 nodes\n",
      "  Cluster 4: 647 nodes\n"
     ]
    }
   ],
   "source": [
    "print('kmedoids')\n",
    "print('- Number of clusters: ', len(cluster_centers))\n",
    "print('- Representatives: ', cluster_centers)\n",
    "print('- Number of nodes in each cluster:')\n",
    "for i in range(len(cluster_centers)):\n",
    "    print(f'  Cluster {i}: {len(cluster_assignment_dict[i])} nodes')\n",
    "\n",
    "print(\"optimization\")\n",
    "print('- Number of clusters: ', len(opti_rep))\n",
    "print('- Representatives: ', opti_rep)\n",
    "print('- Number of nodes in each cluster:')\n",
    "for i in range(len(opti_rep)):\n",
    "    print(f'  Cluster {i}: {int(assignment_matrix_result[:, opti_rep[i]].sum())} nodes')"
   ]
  },
  {
   "cell_type": "code",
   "execution_count": 91,
   "metadata": {},
   "outputs": [],
   "source": [
    "for i in range(5):\n",
    "    cluster_assignment_dict.pop(i)"
   ]
  },
  {
   "cell_type": "code",
   "execution_count": 96,
   "metadata": {},
   "outputs": [],
   "source": [
    "importlib.reload(models)\n",
    "temp = models.TemporalAggregation(aggregator,cluster_assignment_dict)"
   ]
  },
  {
   "cell_type": "code",
   "execution_count": 98,
   "metadata": {},
   "outputs": [],
   "source": [
    "a = temp.aggregate()"
   ]
  },
  {
   "cell_type": "code",
   "execution_count": null,
   "metadata": {},
   "outputs": [],
   "source": []
  }
 ],
 "metadata": {
  "kernelspec": {
   "display_name": "base",
   "language": "python",
   "name": "python3"
  },
  "language_info": {
   "codemirror_mode": {
    "name": "ipython",
    "version": 3
   },
   "file_extension": ".py",
   "mimetype": "text/x-python",
   "name": "python",
   "nbconvert_exporter": "python",
   "pygments_lexer": "ipython3",
   "version": "3.12.3"
  }
 },
 "nbformat": 4,
 "nbformat_minor": 2
}
